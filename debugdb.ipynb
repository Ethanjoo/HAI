{
 "cells": [
  {
   "cell_type": "code",
   "execution_count": null,
   "metadata": {},
   "outputs": [],
   "source": [
    "import sqlite3\n",
    "import bibtexparser\n",
    "conn = sqlite3.connect('HAI_database.db')\n",
    "c = conn.cursor()\n"
   ]
  },
  {
   "cell_type": "code",
   "execution_count": null,
   "metadata": {},
   "outputs": [],
   "source": [
    "paperid = 32\n",
    "new_summary = '''\n",
    "**Title: Cognitive Challenges in Human–Artificial Intelligence Collaboration: Investigating the Path Toward Productive Delegation**\n",
    "1. Context:\n",
    "The study is focused on the specific task of image classification within the broader scope of human–AI collaboration. It employs a generalized, nonspecialized experimental setting to investigate how humans and AI systems can collaboratively perform classification tasks.\n",
    "\n",
    "2. Research Question and Findings:\n",
    "\n",
    "Main Research Questions:\n",
    "\n",
    "Can delegation between humans and AI outperform humans or AI working alone?\n",
    "Who is more effective at delegating tasks: humans or AI?\n",
    "What factors limit human delegation performance, and how can these limitations be addressed?\n",
    "Key Findings:\n",
    "\n",
    "Human-AI collaboration through delegation can surpass the performance of either humans or AI operating independently.\n",
    "AI systems are more proficient at delegating tasks than humans.\n",
    "Humans exhibit poor delegation performance primarily due to a lack of metaknowledge, meaning they struggle to accurately assess their own capabilities.\n",
    "Providing humans with delegation strategies only marginally improves their performance, indicating that the fundamental issue lies in their metaknowledge deficits.\n",
    "3. Theme of Research:\n",
    "Human + AI Collaboration. The research emphasizes the synergistic potential of humans and AI working together, specifically through the delegation of tasks to leverage complementary strengths.\n",
    "\n",
    "4. Study Method:\n",
    "Empirical Study (Experiments). The research comprises a series of behavioral experiments conducted with 902 subjects recruited via Amazon Mechanical Turk (MTurk). These experiments compare different delegation scenarios between humans and an AI system in the context of image classification tasks.\n",
    "\n",
    "5. Primary Contribution:\n",
    "\n",
    "Theoretical Contribution: Enhances the understanding of the cognitive limitations humans face when collaborating with AI, particularly concerning metaknowledge in delegation.\n",
    "Managerial Contribution: Provides insights for designing more effective human–AI collaborative environments and informs strategies for integrating AI into the workplace to optimize task delegation and performance.\n",
    "6. Future Research Directions and Limitations:\n",
    "\n",
    "Limitations:\n",
    "\n",
    "The use of a nonspecialized task and MTurk workers may limit the generalizability of the findings to more specialized or professional settings.\n",
    "Experiments conducted during the COVID-19 pandemic showed lower performance levels, potentially affecting the consistency and reliability of the results.\n",
    "Future Research Directions:\n",
    "\n",
    "Explore human–AI dialogue mechanisms and decision authority frameworks to better accommodate varying levels of human metaknowledge.\n",
    "Develop and test feedback systems aimed at improving human metaknowledge to enhance delegation accuracy.\n",
    "Investigate educational interventions and training programs that can bolster metaknowledge, thereby facilitating more effective human–AI collaboration in diverse and specialized environments.\n",
    "'''\n",
    "\n",
    "#new_method = \"Emperical Study(Data Analysis)\"\n",
    "new_method = \"Emperical Study(Experiment)\"\n",
    "#new_method = \"Conceptual/Case Study\"\n",
    "new_category = \"Human vs AI\"\n",
    "c.execute(\"UPDATE HAI_Paper SET summary = ? WHERE id=?\",(new_summary,paperid))\n",
    "#c.execute(\"UPDATE HAI_Paper SET method = ? WHERE id=?\",(new_method,paperid))\n",
    "#c.execute(\"UPDATE HAI_Paper SET category = ? WHERE id=?\",(new_category,paperid))\n",
    "conn.commit()\n"
   ]
  },
  {
   "cell_type": "code",
   "execution_count": 67,
   "metadata": {},
   "outputs": [],
   "source": [
    "def correct_spelling():\n",
    "    c.execute('''\n",
    "    UPDATE HAI_paper\n",
    "    SET method = REPLACE(method, 'Emperical', 'Empirical')\n",
    "    WHERE method LIKE '%Emperical%'\n",
    "    ''')\n",
    "    conn.commit()\n",
    "\n",
    "# 调用函数修正拼写错误\n",
    "correct_spelling()\n"
   ]
  },
  {
   "cell_type": "code",
   "execution_count": 68,
   "metadata": {},
   "outputs": [],
   "source": [
    "conn.close()"
   ]
  },
  {
   "cell_type": "code",
   "execution_count": null,
   "metadata": {},
   "outputs": [
    {
     "name": "stdout",
     "output_type": "stream",
     "text": [
      "@article{yalcin2022thumbs,\n",
      "  title={Thumbs up or down: Consumer reactions to decisions by algorithms versus humans},\n",
      "  author={Yalcin, Gizem and Lim, Sarah and Puntoni, Stefano and van Osselaer, Stijn MJ},\n",
      "  journal={Journal of Marketing Research},\n",
      "  volume={59},\n",
      "  number={4},\n",
      "  pages={696--717},\n",
      "  year={2022},\n",
      "  publisher={Sage Publications Sage CA: Los Angeles, CA}\n",
      "}\n"
     ]
    }
   ],
   "source": [
    "from selenium import webdriver\n",
    "from selenium.webdriver.common.by import By\n",
    "from selenium.webdriver.common.keys import Keys\n",
    "import time\n",
    "\n",
    "# 初始化WebDriver\n",
    "\n",
    "def bibtex_to_apa(bibtex_text):\n",
    "    authors = bibtex_text['author'].replace(' and ', ', ')\n",
    "    title = bibtex_text['title']\n",
    "    journal = bibtex_text['journal']\n",
    "    volume = bibtex_text['volume']\n",
    "    number = bibtex_text['number']\n",
    "    pages = bibtex_text['pages']\n",
    "    year = bibtex_text['year']\n",
    "    return f\"{authors} ({year}). {title}. {journal}, {volume}({number}), {pages}.\"\n",
    "\n",
    "\n",
    "\n",
    "def create_citation(title):\n",
    "    # 打开谷歌学术\n",
    "    driver = webdriver.Chrome()\n",
    "    driver.get('https://scholar.google.com/')\n",
    "    \n",
    "    # 输入文章标题并搜索\n",
    "    search_box = driver.find_element(By.NAME, 'q')\n",
    "    search_box.send_keys(title)\n",
    "    search_box.send_keys(Keys.RETURN)\n",
    "    \n",
    "    time.sleep(2)  # 等待搜索结果加载\n",
    "    \n",
    "    # 点击第一个搜索结果的引用按钮\n",
    "    driver.find_element(By.CLASS_NAME,'gs_or_cit.gs_nph').click()\n",
    "    \n",
    "    time.sleep(1)  # 等待引用弹窗加载\n",
    "    \n",
    "    # 获取BibTeX格式的引用\n",
    "    bibtex_link = driver.find_element(By.XPATH, '//*[@id=\"gs_citi\"]/a[contains(text(), \"BibTeX\")]')\n",
    "    bibtex_link.click()\n",
    "    \n",
    "    time.sleep(1)  # 等待BibTeX页面加载\n",
    "    \n",
    "    bibtex_str = driver.find_element(By.XPATH, '/html/body/pre').text\n",
    "    driver.quit()\n",
    "    bib_database = bibtexparser.loads(bibtex_str)\n",
    "    bibtex_text = bib_database.entries[0]\n",
    "    apa_citation = bibtex_to_apa(bibtex_text)\n",
    "    return apa_citation\n",
    "\n",
    "# 示例：根据文章标题获取BibTeX格式的参考文献\n",
    "title = \"Thumbs Up or Down: Consumer Reactions to Decisions by Algorithms Versus Humans\"\n",
    "bibtex = get_bibtex(title)\n",
    "print(bibtex)\n",
    "\n",
    "# 关闭WebDriver\n"
   ]
  },
  {
   "cell_type": "code",
   "execution_count": null,
   "metadata": {},
   "outputs": [
    {
     "name": "stdout",
     "output_type": "stream",
     "text": [
      "This is a sample text with a citation: Yalcin, Gizem, Lim, Sarah, Puntoni, Stefano, van Osselaer, Stijn MJ (2022). Thumbs up or down: Consumer reactions to decisions by algorithms versus humans. Journal of Marketing Research, 59(4), 696--717.\n"
     ]
    }
   ],
   "source": [
    "\n",
    "bibtex_str = bibtex\n",
    "# 解析BibTeX数据\n",
    "bib_database = bibtexparser.loads(bibtex_str)\n",
    "\n",
    "# 将BibTeX条目转换为APA格式\n",
    "\n",
    "# 获取BibTeX条目\n",
    "bibtex_text = bib_database.entries[0]\n",
    "\n",
    "# 转换为APA格式\n",
    "apa_citation = bibtex_to_apa(bibtex_text)\n",
    "\n",
    "# 附在一段文字后面\n",
    "text = \"This is a sample text with a citation: \"\n",
    "text_with_citation = text + apa_citation\n",
    "\n",
    "print(text_with_citation)"
   ]
  }
 ],
 "metadata": {
  "kernelspec": {
   "display_name": "Python 3",
   "language": "python",
   "name": "python3"
  },
  "language_info": {
   "codemirror_mode": {
    "name": "ipython",
    "version": 3
   },
   "file_extension": ".py",
   "mimetype": "text/x-python",
   "name": "python",
   "nbconvert_exporter": "python",
   "pygments_lexer": "ipython3",
   "version": "3.10.11"
  }
 },
 "nbformat": 4,
 "nbformat_minor": 2
}
